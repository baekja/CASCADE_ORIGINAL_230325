{
 "cells": [
  {
   "cell_type": "code",
   "execution_count": 1,
   "metadata": {},
   "outputs": [],
   "source": [
    "import numpy as np\n",
    "import pandas as pd\n",
    "\n",
    "import matplotlib.pyplot as plt\n",
    "import seaborn as sns\n",
    "sns.set(context='talk', style='ticks',\n",
    "        color_codes=True, rc={'legend.frameon': False})\n",
    "\n",
    "%matplotlib inline"
   ]
  },
  {
   "cell_type": "code",
   "execution_count": 2,
   "metadata": {},
   "outputs": [],
   "source": [
    "data = pd.read_csv('nmr_eas_dft_ml_C_and_H_and_regio_wiht_predict_y.csv')"
   ]
  },
  {
   "cell_type": "code",
   "execution_count": 4,
   "metadata": {},
   "outputs": [
    {
     "data": {
      "text/html": [
       "<div>\n",
       "<style scoped>\n",
       "    .dataframe tbody tr th:only-of-type {\n",
       "        vertical-align: middle;\n",
       "    }\n",
       "\n",
       "    .dataframe tbody tr th {\n",
       "        vertical-align: top;\n",
       "    }\n",
       "\n",
       "    .dataframe thead th {\n",
       "        text-align: right;\n",
       "    }\n",
       "</style>\n",
       "<table border=\"1\" class=\"dataframe\">\n",
       "  <thead>\n",
       "    <tr style=\"text-align: right;\">\n",
       "      <th></th>\n",
       "      <th>SMILES</th>\n",
       "      <th>C_log_index</th>\n",
       "      <th>DFT C NMR</th>\n",
       "      <th>ML C NMR</th>\n",
       "      <th>exp_result</th>\n",
       "      <th>DFT H NMR</th>\n",
       "      <th>H_log_index</th>\n",
       "      <th>ML H NMR</th>\n",
       "      <th>name</th>\n",
       "      <th>regio</th>\n",
       "      <th>predicted_y</th>\n",
       "    </tr>\n",
       "  </thead>\n",
       "  <tbody>\n",
       "    <tr>\n",
       "      <th>0</th>\n",
       "      <td>c1n2ccncc2nc1</td>\n",
       "      <td>1</td>\n",
       "      <td>110.3638</td>\n",
       "      <td>118.63</td>\n",
       "      <td>1</td>\n",
       "      <td>7.2039</td>\n",
       "      <td>10</td>\n",
       "      <td>7.42</td>\n",
       "      <td>comp38</td>\n",
       "      <td>0.0000</td>\n",
       "      <td>1</td>\n",
       "    </tr>\n",
       "    <tr>\n",
       "      <th>1</th>\n",
       "      <td>c1n2ccncc2nc1</td>\n",
       "      <td>3</td>\n",
       "      <td>116.4586</td>\n",
       "      <td>122.32</td>\n",
       "      <td>0</td>\n",
       "      <td>7.5963</td>\n",
       "      <td>11</td>\n",
       "      <td>7.99</td>\n",
       "      <td>comp38</td>\n",
       "      <td>17.7683</td>\n",
       "      <td>0</td>\n",
       "    </tr>\n",
       "    <tr>\n",
       "      <th>2</th>\n",
       "      <td>c1n2ccncc2nc1</td>\n",
       "      <td>4</td>\n",
       "      <td>129.6186</td>\n",
       "      <td>132.70</td>\n",
       "      <td>0</td>\n",
       "      <td>7.6156</td>\n",
       "      <td>12</td>\n",
       "      <td>8.13</td>\n",
       "      <td>comp38</td>\n",
       "      <td>14.0603</td>\n",
       "      <td>0</td>\n",
       "    </tr>\n",
       "    <tr>\n",
       "      <th>3</th>\n",
       "      <td>c1n2ccncc2nc1</td>\n",
       "      <td>6</td>\n",
       "      <td>144.3893</td>\n",
       "      <td>141.73</td>\n",
       "      <td>0</td>\n",
       "      <td>8.7583</td>\n",
       "      <td>13</td>\n",
       "      <td>8.55</td>\n",
       "      <td>comp38</td>\n",
       "      <td>20.3978</td>\n",
       "      <td>0</td>\n",
       "    </tr>\n",
       "    <tr>\n",
       "      <th>4</th>\n",
       "      <td>c1n2ccncc2nc1</td>\n",
       "      <td>9</td>\n",
       "      <td>135.5628</td>\n",
       "      <td>133.40</td>\n",
       "      <td>0</td>\n",
       "      <td>7.4819</td>\n",
       "      <td>14</td>\n",
       "      <td>7.26</td>\n",
       "      <td>comp38</td>\n",
       "      <td>15.4979</td>\n",
       "      <td>0</td>\n",
       "    </tr>\n",
       "  </tbody>\n",
       "</table>\n",
       "</div>"
      ],
      "text/plain": [
       "          SMILES  C_log_index  DFT C NMR  ML C NMR  exp_result  DFT H NMR  \\\n",
       "0  c1n2ccncc2nc1            1   110.3638    118.63           1     7.2039   \n",
       "1  c1n2ccncc2nc1            3   116.4586    122.32           0     7.5963   \n",
       "2  c1n2ccncc2nc1            4   129.6186    132.70           0     7.6156   \n",
       "3  c1n2ccncc2nc1            6   144.3893    141.73           0     8.7583   \n",
       "4  c1n2ccncc2nc1            9   135.5628    133.40           0     7.4819   \n",
       "\n",
       "   H_log_index  ML H NMR    name    regio  predicted_y  \n",
       "0           10      7.42  comp38   0.0000            1  \n",
       "1           11      7.99  comp38  17.7683            0  \n",
       "2           12      8.13  comp38  14.0603            0  \n",
       "3           13      8.55  comp38  20.3978            0  \n",
       "4           14      7.26  comp38  15.4979            0  "
      ]
     },
     "execution_count": 4,
     "metadata": {},
     "output_type": "execute_result"
    }
   ],
   "source": [
    "data.head()"
   ]
  },
  {
   "cell_type": "markdown",
   "metadata": {},
   "source": [
    "### rdkit images"
   ]
  },
  {
   "cell_type": "code",
   "execution_count": 4,
   "metadata": {},
   "outputs": [
    {
     "name": "stdout",
     "output_type": "stream",
     "text": [
      "Tue Jan 12 20:01:27 2021\n"
     ]
    }
   ],
   "source": [
    "from __future__ import print_function\n",
    "from rdkit import Chem\n",
    "from rdkit.Chem.Draw import IPythonConsole\n",
    "from IPython.display import SVG\n",
    "import time\n",
    "print(time.asctime())"
   ]
  },
  {
   "cell_type": "code",
   "execution_count": 5,
   "metadata": {},
   "outputs": [
    {
     "name": "stdout",
     "output_type": "stream",
     "text": [
      "2020.03.4\n"
     ]
    }
   ],
   "source": [
    "from rdkit import Chem\n",
    "from rdkit.Chem import Draw\n",
    "from rdkit.Chem.Draw import rdMolDraw2D\n",
    "from rdkit.Chem import rdDepictor\n",
    "rdDepictor.SetPreferCoordGen(True)\n",
    "from rdkit.Chem.Draw import IPythonConsole\n",
    "from IPython.display import SVG\n",
    "import rdkit\n",
    "print(rdkit.__version__)"
   ]
  },
  {
   "cell_type": "code",
   "execution_count": 6,
   "metadata": {},
   "outputs": [
    {
     "data": {
      "text/plain": [
       "Index(['SMILES', 'C_log_index', 'DFT C NMR', 'ML C NMR', 'exp_result',\n",
       "       'DFT H NMR', 'H_log_index', 'ML H NMR', 'name', 'regio', 'predicted_y'],\n",
       "      dtype='object')"
      ]
     },
     "execution_count": 6,
     "metadata": {},
     "output_type": "execute_result"
    }
   ],
   "source": [
    "data.columns"
   ]
  },
  {
   "cell_type": "code",
   "execution_count": 7,
   "metadata": {},
   "outputs": [],
   "source": [
    "# rxp = ['o1cccc1','c1n2ccncc2nc1']\n",
    "# data= data[data.SMILES.isin(rxp)]\n",
    "# data"
   ]
  },
  {
   "cell_type": "code",
   "execution_count": 8,
   "metadata": {},
   "outputs": [],
   "source": [
    "COLS = [(1,0.8,0.5), (0.7,0.7,0.3)]\n",
    "def add_colours_to_map(els, cols, col_num):\n",
    "    for el in els:\n",
    "        if not el in cols:\n",
    "            cols[int(el)] = []\n",
    "            cols[int(el)].append(COLS[col_num])\n",
    "        else:\n",
    "            cols[int(el)].append(COLS[col_num])"
   ]
  },
  {
   "cell_type": "code",
   "execution_count": 37,
   "metadata": {},
   "outputs": [],
   "source": [
    "data['num_atoms'] = data['SMILES'].apply(lambda x: Chem.MolFromSmiles(x).GetNumAtoms())\n",
    "data_sorted = data.sort_values(by=['num_atoms','SMILES'])"
   ]
  },
  {
   "cell_type": "code",
   "execution_count": 38,
   "metadata": {},
   "outputs": [
    {
     "data": {
      "text/html": [
       "<div>\n",
       "<style scoped>\n",
       "    .dataframe tbody tr th:only-of-type {\n",
       "        vertical-align: middle;\n",
       "    }\n",
       "\n",
       "    .dataframe tbody tr th {\n",
       "        vertical-align: top;\n",
       "    }\n",
       "\n",
       "    .dataframe thead th {\n",
       "        text-align: right;\n",
       "    }\n",
       "</style>\n",
       "<table border=\"1\" class=\"dataframe\">\n",
       "  <thead>\n",
       "    <tr style=\"text-align: right;\">\n",
       "      <th></th>\n",
       "      <th>SMILES</th>\n",
       "      <th>C_log_index</th>\n",
       "      <th>DFT C NMR</th>\n",
       "      <th>ML C NMR</th>\n",
       "      <th>exp_result</th>\n",
       "      <th>DFT H NMR</th>\n",
       "      <th>H_log_index</th>\n",
       "      <th>ML H NMR</th>\n",
       "      <th>name</th>\n",
       "      <th>regio</th>\n",
       "      <th>predicted_y</th>\n",
       "      <th>num_atoms</th>\n",
       "    </tr>\n",
       "  </thead>\n",
       "  <tbody>\n",
       "    <tr>\n",
       "      <th>137</th>\n",
       "      <td>c1c[nH]cn1</td>\n",
       "      <td>1</td>\n",
       "      <td>129.3916</td>\n",
       "      <td>129.21</td>\n",
       "      <td>0</td>\n",
       "      <td>6.9791</td>\n",
       "      <td>6</td>\n",
       "      <td>7.41</td>\n",
       "      <td>arr37</td>\n",
       "      <td>0.6724</td>\n",
       "      <td>0</td>\n",
       "      <td>5</td>\n",
       "    </tr>\n",
       "    <tr>\n",
       "      <th>138</th>\n",
       "      <td>c1c[nH]cn1</td>\n",
       "      <td>2</td>\n",
       "      <td>112.1750</td>\n",
       "      <td>119.15</td>\n",
       "      <td>1</td>\n",
       "      <td>6.6437</td>\n",
       "      <td>7</td>\n",
       "      <td>7.28</td>\n",
       "      <td>arr37</td>\n",
       "      <td>0.0000</td>\n",
       "      <td>1</td>\n",
       "      <td>5</td>\n",
       "    </tr>\n",
       "    <tr>\n",
       "      <th>139</th>\n",
       "      <td>c1c[nH]cn1</td>\n",
       "      <td>4</td>\n",
       "      <td>131.4088</td>\n",
       "      <td>135.65</td>\n",
       "      <td>0</td>\n",
       "      <td>7.1389</td>\n",
       "      <td>9</td>\n",
       "      <td>7.71</td>\n",
       "      <td>arr37</td>\n",
       "      <td>3.8684</td>\n",
       "      <td>0</td>\n",
       "      <td>5</td>\n",
       "    </tr>\n",
       "    <tr>\n",
       "      <th>484</th>\n",
       "      <td>c1cc[nH]c1</td>\n",
       "      <td>1</td>\n",
       "      <td>108.5914</td>\n",
       "      <td>108.64</td>\n",
       "      <td>0</td>\n",
       "      <td>6.1462</td>\n",
       "      <td>6</td>\n",
       "      <td>6.62</td>\n",
       "      <td>arr16</td>\n",
       "      <td>0.0000</td>\n",
       "      <td>0</td>\n",
       "      <td>5</td>\n",
       "    </tr>\n",
       "    <tr>\n",
       "      <th>485</th>\n",
       "      <td>c1cc[nH]c1</td>\n",
       "      <td>2</td>\n",
       "      <td>108.5886</td>\n",
       "      <td>108.64</td>\n",
       "      <td>0</td>\n",
       "      <td>6.1473</td>\n",
       "      <td>7</td>\n",
       "      <td>6.62</td>\n",
       "      <td>arr16</td>\n",
       "      <td>1.1854</td>\n",
       "      <td>0</td>\n",
       "      <td>5</td>\n",
       "    </tr>\n",
       "    <tr>\n",
       "      <th>...</th>\n",
       "      <td>...</td>\n",
       "      <td>...</td>\n",
       "      <td>...</td>\n",
       "      <td>...</td>\n",
       "      <td>...</td>\n",
       "      <td>...</td>\n",
       "      <td>...</td>\n",
       "      <td>...</td>\n",
       "      <td>...</td>\n",
       "      <td>...</td>\n",
       "      <td>...</td>\n",
       "      <td>...</td>\n",
       "    </tr>\n",
       "    <tr>\n",
       "      <th>1811</th>\n",
       "      <td>c1cnc(n1c1cccc(c1)C=O)c1c(cc(c(c1)Cl)OCc1ccccc...</td>\n",
       "      <td>32</td>\n",
       "      <td>130.6484</td>\n",
       "      <td>127.88</td>\n",
       "      <td>0</td>\n",
       "      <td>7.7050</td>\n",
       "      <td>55</td>\n",
       "      <td>6.66</td>\n",
       "      <td>comp171</td>\n",
       "      <td>0.0000</td>\n",
       "      <td>0</td>\n",
       "      <td>36</td>\n",
       "    </tr>\n",
       "    <tr>\n",
       "      <th>1812</th>\n",
       "      <td>c1cnc(n1c1cccc(c1)C=O)c1c(cc(c(c1)Cl)OCc1ccccc...</td>\n",
       "      <td>33</td>\n",
       "      <td>127.2607</td>\n",
       "      <td>128.50</td>\n",
       "      <td>0</td>\n",
       "      <td>7.0851</td>\n",
       "      <td>56</td>\n",
       "      <td>7.18</td>\n",
       "      <td>comp171</td>\n",
       "      <td>31.1080</td>\n",
       "      <td>0</td>\n",
       "      <td>36</td>\n",
       "    </tr>\n",
       "    <tr>\n",
       "      <th>1813</th>\n",
       "      <td>c1cnc(n1c1cccc(c1)C=O)c1c(cc(c(c1)Cl)OCc1ccccc...</td>\n",
       "      <td>34</td>\n",
       "      <td>126.8953</td>\n",
       "      <td>128.78</td>\n",
       "      <td>0</td>\n",
       "      <td>7.0725</td>\n",
       "      <td>57</td>\n",
       "      <td>7.17</td>\n",
       "      <td>comp171</td>\n",
       "      <td>32.4729</td>\n",
       "      <td>0</td>\n",
       "      <td>36</td>\n",
       "    </tr>\n",
       "    <tr>\n",
       "      <th>1814</th>\n",
       "      <td>c1cnc(n1c1cccc(c1)C=O)c1c(cc(c(c1)Cl)OCc1ccccc...</td>\n",
       "      <td>35</td>\n",
       "      <td>126.3238</td>\n",
       "      <td>128.52</td>\n",
       "      <td>0</td>\n",
       "      <td>7.0411</td>\n",
       "      <td>58</td>\n",
       "      <td>7.21</td>\n",
       "      <td>comp171</td>\n",
       "      <td>30.2598</td>\n",
       "      <td>0</td>\n",
       "      <td>36</td>\n",
       "    </tr>\n",
       "    <tr>\n",
       "      <th>1815</th>\n",
       "      <td>c1cnc(n1c1cccc(c1)C=O)c1c(cc(c(c1)Cl)OCc1ccccc...</td>\n",
       "      <td>36</td>\n",
       "      <td>126.2202</td>\n",
       "      <td>128.32</td>\n",
       "      <td>0</td>\n",
       "      <td>6.8548</td>\n",
       "      <td>59</td>\n",
       "      <td>6.61</td>\n",
       "      <td>comp171</td>\n",
       "      <td>1.1686</td>\n",
       "      <td>0</td>\n",
       "      <td>36</td>\n",
       "    </tr>\n",
       "  </tbody>\n",
       "</table>\n",
       "<p>1816 rows × 12 columns</p>\n",
       "</div>"
      ],
      "text/plain": [
       "                                                 SMILES  C_log_index  \\\n",
       "137                                          c1c[nH]cn1            1   \n",
       "138                                          c1c[nH]cn1            2   \n",
       "139                                          c1c[nH]cn1            4   \n",
       "484                                          c1cc[nH]c1            1   \n",
       "485                                          c1cc[nH]c1            2   \n",
       "...                                                 ...          ...   \n",
       "1811  c1cnc(n1c1cccc(c1)C=O)c1c(cc(c(c1)Cl)OCc1ccccc...           32   \n",
       "1812  c1cnc(n1c1cccc(c1)C=O)c1c(cc(c(c1)Cl)OCc1ccccc...           33   \n",
       "1813  c1cnc(n1c1cccc(c1)C=O)c1c(cc(c(c1)Cl)OCc1ccccc...           34   \n",
       "1814  c1cnc(n1c1cccc(c1)C=O)c1c(cc(c(c1)Cl)OCc1ccccc...           35   \n",
       "1815  c1cnc(n1c1cccc(c1)C=O)c1c(cc(c(c1)Cl)OCc1ccccc...           36   \n",
       "\n",
       "      DFT C NMR  ML C NMR  exp_result  DFT H NMR  H_log_index  ML H NMR  \\\n",
       "137    129.3916    129.21           0     6.9791            6      7.41   \n",
       "138    112.1750    119.15           1     6.6437            7      7.28   \n",
       "139    131.4088    135.65           0     7.1389            9      7.71   \n",
       "484    108.5914    108.64           0     6.1462            6      6.62   \n",
       "485    108.5886    108.64           0     6.1473            7      6.62   \n",
       "...         ...       ...         ...        ...          ...       ...   \n",
       "1811   130.6484    127.88           0     7.7050           55      6.66   \n",
       "1812   127.2607    128.50           0     7.0851           56      7.18   \n",
       "1813   126.8953    128.78           0     7.0725           57      7.17   \n",
       "1814   126.3238    128.52           0     7.0411           58      7.21   \n",
       "1815   126.2202    128.32           0     6.8548           59      6.61   \n",
       "\n",
       "         name    regio  predicted_y  num_atoms  \n",
       "137     arr37   0.6724            0          5  \n",
       "138     arr37   0.0000            1          5  \n",
       "139     arr37   3.8684            0          5  \n",
       "484     arr16   0.0000            0          5  \n",
       "485     arr16   1.1854            0          5  \n",
       "...       ...      ...          ...        ...  \n",
       "1811  comp171   0.0000            0         36  \n",
       "1812  comp171  31.1080            0         36  \n",
       "1813  comp171  32.4729            0         36  \n",
       "1814  comp171  30.2598            0         36  \n",
       "1815  comp171   1.1686            0         36  \n",
       "\n",
       "[1816 rows x 12 columns]"
      ]
     },
     "execution_count": 38,
     "metadata": {},
     "output_type": "execute_result"
    }
   ],
   "source": [
    "data_sorted"
   ]
  },
  {
   "cell_type": "code",
   "execution_count": 39,
   "metadata": {},
   "outputs": [
    {
     "name": "stdout",
     "output_type": "stream",
     "text": [
      ">> Made 2D representation of final molecule in all.html.\n"
     ]
    }
   ],
   "source": [
    "from rdkit import Geometry\n",
    "mol_out_list = []\n",
    "pred_atoms_list = []\n",
    "exp_atoms_list = []\n",
    "svg_all = []\n",
    "\n",
    "for smi in data_sorted.SMILES.unique():\n",
    "    \n",
    "    #adding mol\n",
    "    mol = Chem.MolFromSmiles(smi)\n",
    "    mol = Draw.PrepareMolForDrawing(mol)\n",
    "    \n",
    "    #getting rows\n",
    "    row = data[data.SMILES==smi]\n",
    "    \n",
    "    #adding highlight exp\n",
    "    exp_atoms = row[row.exp_result==1].C_log_index - 1\n",
    "    exp_atoms_list = exp_atoms.values\n",
    "    \n",
    "    #adding highlight pred\n",
    "    pred_atoms = row[row.predicted_y==1].C_log_index - 1\n",
    "    pred_atoms_list = pred_atoms.values\n",
    "\n",
    "    name=row.name.unique()\n",
    "\n",
    "    # assiangning colours\n",
    "    acols = {}\n",
    "    bcols = {}\n",
    "    h_rads = {}\n",
    "    h_lw_mult = {}\n",
    "    add_colours_to_map(exp_atoms_list, acols, 0)\n",
    "    add_colours_to_map(pred_atoms_list, acols, 1)\n",
    "\n",
    "    #drawing molecule\n",
    "    label=str(name[0])\n",
    "    drawer = rdMolDraw2D.MolDraw2DSVG(150, 150)\n",
    "#     drawer.drawOptions().fillHighlights = False\n",
    "    drawer.drawOptions().atomHighlightsAreCircles = True\n",
    "    drawer.DrawMoleculeWithHighlights(mol, '', acols, bcols, h_rads, h_lw_mult, -1)\n",
    "    drawer.FinishDrawing()\n",
    "    svg = drawer.GetDrawingText().replace('svg:','')\n",
    "#     print(svg)\n",
    "#     SVG(drawer.GetDrawingText())\n",
    "    \n",
    "    svg_all.append(svg)\n",
    "    \n",
    "with open('images/all.html', 'w') as f:\n",
    "    for count,s in enumerate(svg_all):\n",
    "        if count%5 ==0:\n",
    "            f.write('\\n')\n",
    "            f.write(s)\n",
    "        else:\n",
    "            f.write(s)\n",
    "print(\">> Made 2D representation of final molecule in all.html.\")"
   ]
  },
  {
   "cell_type": "markdown",
   "metadata": {},
   "source": [
    "### roc and precision recall"
   ]
  },
  {
   "cell_type": "code",
   "execution_count": 10,
   "metadata": {},
   "outputs": [],
   "source": [
    "from sklearn.model_selection import train_test_split\n",
    "from sklearn.ensemble import RandomForestClassifier\n",
    "from sklearn.metrics import accuracy_score\n",
    "def rf_charges(X,Y,name,feat,nest,md):\n",
    "    # shuffle and split training and test sets\n",
    "    X_train,X_test, y_train, y_test = train_test_split(X, Y, test_size=.5,\n",
    "                                                        random_state=42)\n",
    "    # Create the model with 100 trees\n",
    "    model = RandomForestClassifier(max_features=feat, n_estimators=nest, max_depth=md)\n",
    "    # Fit on training data\n",
    "    model.fit(X_train, y_train)\n",
    "    \n",
    "    y_pred = model.predict(X_test)\n",
    "    print('R2: '+ name, accuracy_score(y_test, y_pred))\n",
    "    return model, X_test, y_test, y_pred"
   ]
  },
  {
   "cell_type": "code",
   "execution_count": 11,
   "metadata": {},
   "outputs": [
    {
     "name": "stdout",
     "output_type": "stream",
     "text": [
      "R2: DFT 0.8942731277533039\n"
     ]
    }
   ],
   "source": [
    "X_dft = data[['DFT C NMR','DFT H NMR','regio']].to_numpy()\n",
    "Y = np.concatenate(data[['exp_result']].astype(int).to_numpy())\n",
    "model_dft,X_test_dft,y_test_dft,y_pred_dft = rf_charges(X_dft,Y,'DFT',1,200,10)"
   ]
  },
  {
   "cell_type": "code",
   "execution_count": 12,
   "metadata": {},
   "outputs": [
    {
     "name": "stdout",
     "output_type": "stream",
     "text": [
      "R2: ML 0.8711453744493393\n"
     ]
    }
   ],
   "source": [
    "X_ml = data[['ML C NMR','ML H NMR','regio']].to_numpy()\n",
    "Y = np.concatenate(data[['exp_result']].astype(int).to_numpy())\n",
    "model_ml,X_test_ml,y_test_ml,y_pred_ml= rf_charges(X_ml,Y,'ML',2,400,10)"
   ]
  },
  {
   "cell_type": "code",
   "execution_count": 13,
   "metadata": {},
   "outputs": [
    {
     "name": "stdout",
     "output_type": "stream",
     "text": [
      "R2: only regio 0.8678414096916299\n"
     ]
    }
   ],
   "source": [
    "X_regio = data[['regio']].to_numpy()\n",
    "Y = np.concatenate(data[['exp_result']].astype(int).to_numpy())\n",
    "model_r,X_test_r,y_test_r,y_pred_r= rf_charges(X_regio,Y,'only regio',1,10,200)"
   ]
  },
  {
   "cell_type": "code",
   "execution_count": 20,
   "metadata": {},
   "outputs": [
    {
     "data": {
      "image/png": "[encoded data removed]",
      "text/plain": [
       "<Figure size 432x288 with 1 Axes>"
      ]
     },
     "metadata": {
      "needs_background": "light"
     },
     "output_type": "display_data"
    }
   ],
   "source": [
    "from sklearn.metrics import plot_roc_curve\n",
    "import matplotlib.pyplot as plt\n",
    "ax = plt.gca()\n",
    "rfc_disp1 = plot_roc_curve(model_dft, X_test_dft, y_test_dft, ax=ax, alpha=0.8,name='DFT + R-SQM')\n",
    "rfc_disp2 = plot_roc_curve(model_ml, X_test_ml, y_test_ml, ax=ax, alpha=0.8,name='ML + R-SQM')\n",
    "rfc_disp3 = plot_roc_curve(model_r, X_test_r, y_test_r, ax=ax, alpha=0.8,name='only R-SQM')\n",
    "plt.title('ROC for site of EAS')\n",
    "plt.show()"
   ]
  },
  {
   "cell_type": "code",
   "execution_count": 21,
   "metadata": {},
   "outputs": [
    {
     "data": {
      "image/png": "[encoded data removed]",
      "text/plain": [
       "<Figure size 432x288 with 1 Axes>"
      ]
     },
     "metadata": {
      "needs_background": "light"
     },
     "output_type": "display_data"
    }
   ],
   "source": [
    "from sklearn.metrics import precision_recall_curve\n",
    "from sklearn.metrics import plot_precision_recall_curve\n",
    "import matplotlib.pyplot as plt\n",
    "ax = plt.gca()\n",
    "from sklearn.metrics import average_precision_score\n",
    "average_precision_dft = average_precision_score(y_test_dft, y_pred_dft)\n",
    "average_precision_ml = average_precision_score(y_test_ml, y_pred_ml)\n",
    "average_precision_r = average_precision_score(y_test_r, y_pred_r)\n",
    "\n",
    "disp1= plot_precision_recall_curve(model_dft, X_test_dft, y_test_dft, ax=ax, alpha=0.8,name='DFT + R-SQM')\n",
    "disp2 =  plot_precision_recall_curve(model_ml, X_test_ml, y_test_ml, ax=ax, alpha=0.8,name='ML + R-SQM')\n",
    "disp3 =  plot_precision_recall_curve(model_r, X_test_r, y_test_r, ax=ax, alpha=0.8,name='only R-SQM')\n",
    "plt.title('Precision-Recall curve')\n",
    "plt.show()"
   ]
  },
  {
   "cell_type": "markdown",
   "metadata": {},
   "source": [
    "###  scatter plot"
   ]
  },
  {
   "cell_type": "code",
   "execution_count": 31,
   "metadata": {},
   "outputs": [
    {
     "name": "stderr",
     "output_type": "stream",
     "text": [
      "*c* argument looks like a single numeric RGB or RGBA sequence, which should be avoided as value-mapping will have precedence in case its length matches with *x* & *y*.  Please use the *color* keyword-argument or provide a 2-D array with a single row if you intend to specify the same RGB or RGBA value for all points.\n"
     ]
    },
    {
     "data": {
      "text/plain": [
       "[Text(0.5, 1.0, 'ML vs DFT chemical shifts - $^{13}$C'),\n",
       " Text(0.5, 0, 'ML $^{13}$C'),\n",
       " Text(0, 0.5, 'DFT $^{13}$C')]"
      ]
     },
     "execution_count": 31,
     "metadata": {},
     "output_type": "execute_result"
    },
    {
     "data": {
      "image/png": "[encoded data removed]",
      "text/plain": [
       "<Figure size 432x288 with 1 Axes>"
      ]
     },
     "metadata": {
      "needs_background": "light"
     },
     "output_type": "display_data"
    }
   ],
   "source": [
    "#graphC\n",
    "mae= (data['ML C NMR'] - data['DFT C NMR']).abs().mean()\n",
    "ax1 = data.plot.scatter(x='ML C NMR', y='DFT C NMR')\n",
    "ax1.text(.95, .05, f'MAE : {mae:.3f}', ha='right',transform=ax1.transAxes, fontsize=14)\n",
    "ax1.set(title=r'ML vs DFT chemical shifts - $^{13}$C', xlabel='ML $^{13}$C', ylabel='DFT $^{13}$C')\n",
    "# ax1.set_title(r$' ML vs DFT chemical shifts - C')"
   ]
  },
  {
   "cell_type": "code",
   "execution_count": 32,
   "metadata": {},
   "outputs": [
    {
     "name": "stderr",
     "output_type": "stream",
     "text": [
      "*c* argument looks like a single numeric RGB or RGBA sequence, which should be avoided as value-mapping will have precedence in case its length matches with *x* & *y*.  Please use the *color* keyword-argument or provide a 2-D array with a single row if you intend to specify the same RGB or RGBA value for all points.\n"
     ]
    },
    {
     "data": {
      "text/plain": [
       "[Text(0.5, 1.0, 'ML vs DFT chemical shifts - $^{1}$H'),\n",
       " Text(0.5, 0, 'ML $^{1}$H'),\n",
       " Text(0, 0.5, 'DFT $^{1}$H')]"
      ]
     },
     "execution_count": 32,
     "metadata": {},
     "output_type": "execute_result"
    },
    {
     "data": {
      "image/png": "[encoded data removed]",
      "text/plain": [
       "<Figure size 432x288 with 1 Axes>"
      ]
     },
     "metadata": {
      "needs_background": "light"
     },
     "output_type": "display_data"
    }
   ],
   "source": [
    "#graphH\n",
    "mae= (data['ML H NMR'] - data['DFT H NMR']).abs().mean()\n",
    "ax1 = data.plot.scatter(x='ML H NMR', y='DFT H NMR')\n",
    "ax1.text(.95, .05, f'MAE : {mae:.3f}', ha='right',transform=ax1.transAxes, fontsize=14)\n",
    "ax1.set(title=r'ML vs DFT chemical shifts - $^{1}$H', xlabel='ML $^{1}$H', ylabel='DFT $^{1}$H')\n",
    "# ax1.set_title('Comparison of ML vs DFT chemical shifts - H')"
   ]
  },
  {
   "cell_type": "code",
   "execution_count": null,
   "metadata": {},
   "outputs": [],
   "source": []
  }
 ],
 "metadata": {
  "kernelspec": {
   "display_name": "Python 3",
   "language": "python",
   "name": "python3"
  },
  "language_info": {
   "codemirror_mode": {
    "name": "ipython",
    "version": 3
   },
   "file_extension": ".py",
   "mimetype": "text/x-python",
   "name": "python",
   "nbconvert_exporter": "python",
   "pygments_lexer": "ipython3",
   "version": "3.8.3"
  }
 },
 "nbformat": 4,
 "nbformat_minor": 4
}
